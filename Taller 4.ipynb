{
 "cells": [
  {
   "cell_type": "markdown",
   "metadata": {},
   "source": [
    "## Juana Pinzón & Alan Romero"
   ]
  },
  {
   "cell_type": "code",
   "execution_count": 39,
   "metadata": {},
   "outputs": [],
   "source": [
    "import numpy as np\n",
    "import matplotlib.pyplot as plt\n",
    "from scipy.stats import binom\n",
    "import math\n",
    "from scipy.integrate import quad\n",
    "from scipy.special import erfinv"
   ]
  },
  {
   "cell_type": "markdown",
   "metadata": {},
   "source": [
    "# 1. Calculo de probabilidad"
   ]
  },
  {
   "cell_type": "markdown",
   "metadata": {},
   "source": [
    "1. Se reparten cartas, una a la vez, de una baraja de 52 cartas."
   ]
  },
  {
   "cell_type": "markdown",
   "metadata": {},
   "source": [
    "a) Si las primeras 2 cartas son espadas, ¿cuál es la probabilidad de que las siguientes 3 cartas también sean espadas?\n",
    "En una baraja de 52 cartas hay 13 cartas de cada palo. \n",
    "\n",
    "Quedan 11 espadas en la baraja de 50 cartas. La probabilidad de que las siguientes 3 cartas también sean espadas es el producto de las probabilidades de sacar una espada en cada turno:\n",
    "$$\n",
    "\\frac{11}{50} \\times \\frac{10}{49} \\times \\frac{9}{48}=\\frac{33}{3920}=0.84 \\%\n",
    "$$"
   ]
  },
  {
   "cell_type": "markdown",
   "metadata": {},
   "source": [
    "b) Si las primeras 3 cartas son todas de espadas, ¿cuál es la probabilidad de que las 2 cartas siguientes sean también espadas?\n",
    "\n",
    "Quedan 10 espadas en la baraja de 49 cartas. La probabilidad equivale al producto de las probabilidades de sacar una espada en cada turno:\n",
    "$$\n",
    "\\frac{10}{49} \\times \\frac{9}{48}=\\frac{15}{392}=3.82\\%\n",
    "$$"
   ]
  },
  {
   "cell_type": "markdown",
   "metadata": {},
   "source": [
    "c) Si las primeras 4 cartas son todas de espadas, ¿cuál es la probabilidad de que la siguiente carta sea también una espada?\n",
    "\n",
    "Quedan 9 espadas en la baraja de 48 cartas. La probabilidad de que la siguiente carta sea también una espada es:\n",
    "$$\n",
    "\\frac{9}{48}=\\frac{3}{16}=18.75\\%\n",
    "$$"
   ]
  },
  {
   "cell_type": "markdown",
   "metadata": {},
   "source": [
    "2. Suponga que la probabilidad de exposición a la gripe durante una epidemia es .6. La experiencia ha demostrado que un suero tiene $80 \\%$ de éxito para prevenir que una persona inoculada contraiga la gripe si se expone a ella. Una persona no inoculada enfrenta una probabilidad de ,90 de contraer la gripe si se expone a ella. Dos personas, una inoculada y otra no, realizan un trabajo altamente especializado en un negocio. Suponga que no están en el mismo lugar, no están en contacto con las mismas personas y no pueden contagiarse entre sí a la gripe. ¿Cuál es la probabilidad de que al menos una de ellas se enferme?"
   ]
  },
  {
   "cell_type": "markdown",
   "metadata": {},
   "source": [
    "**Persona inoculada**\n",
    "\\\n",
    "La probabilidad de que se exponga a la gripe es de $0.6$\n",
    "\\\n",
    "Si se expone, la probabilidad de que se enferme es $1-0.8=0.2$\n",
    "\\\n",
    "Por lo tanto, la probabilidad de que se enferme es $$0.6∗0.2=0.12$$\n",
    "\n",
    "**Persona no inoculada**\n",
    "\\\n",
    "La probabilidad de que se exponga a la gripe es de $0.6$\n",
    "\\\n",
    "La probabilidad de que se enferme si se expone es $0.9$\n",
    "\\\n",
    "Por lo tanto, la probabilidad de que la persona no inoculada se enferme es $$0.6∗0.9=0.54$$\n",
    "\n",
    "La probabilidad de que al menos una de ellas se enferme es la diferencia entre 1 y la probabilidad de que ambas se mantengan saludables.\n",
    "\\\n",
    "La probabilidad de que la persona inoculada se mantenga saludable es $1-0.12=0.88$\n",
    "\\\n",
    "La probabilidad de que la persona no inoculada se mantenga saludable es $1-0.54=0.46$\n",
    "\\\n",
    "Por lo tanto, la probabilidad de que ambas se mantengan saludables es $$0.88∗0.46=0.4048$$\n",
    "\\\n",
    "Entonces, la probabilidad de que al menos una de ellas se enferme es $$1−0.4048=0.5952$$"
   ]
  },
  {
   "cell_type": "markdown",
   "metadata": {},
   "source": [
    "## 2. Distribuciones de probabilidad discretas"
   ]
  },
  {
   "cell_type": "markdown",
   "metadata": {},
   "source": [
    "1. El muestreo de piezas defectuosas de grandes lotes de productos manufacturados da un número de piezas defectuosas, $Y$, que sigue una distribución de probabilidad binomial. Un plan de muestreo consiste en especificar el número de piezas $n$ por incluirse en una muestra y un número de aceptación $a$. El lote es aceptado si $Y \\leq a$ y rechazado si $Y>a$. Denote con $p$ la proporción de piezas defectuosas del lote. Un ingeniero de control de calidad desea estudiar planes de muestreo alternativos: $n=5, a=1 \\mathrm{y}$ $n=25, a=5$. Construya las curvas características de operación para ambos planes, haciendo uso de probabilidades de aceptación en el rango $p \\in[0,1]$."
   ]
  },
  {
   "cell_type": "code",
   "execution_count": 10,
   "metadata": {},
   "outputs": [
    {
     "data": {
      "image/png": "[encoded data removed]",
      "text/plain": [
       "<Figure size 432x288 with 1 Axes>"
      ]
     },
     "metadata": {
      "needs_background": "light"
     },
     "output_type": "display_data"
    }
   ],
   "source": [
    "def prob_acceptance(p, n, a):\n",
    "    return 1 - (np.sum(np.arange(n+1) < a)) * (1-p)**(n-a+1)\n",
    "\n",
    "n1, a1 = 5, 1\n",
    "n2, a2 = 25, 5\n",
    "ejex1 = np.linspace(0, 1, 100)\n",
    "\n",
    "acceptance_rate1 = np.array([prob_acceptance(p, n1, a1) for p in ejex1])\n",
    "acceptance_rate2 = np.array([prob_acceptance(p, n2, a2) for p in ejex1])\n",
    "\n",
    "plt.plot(p_values, acceptance_rate1, label='Plan 1')\n",
    "plt.plot(p_values, acceptance_rate2, label='Plan 2')\n",
    "\n",
    "plt.xlabel('Fracción defectuosa')\n",
    "plt.ylabel('Probabilidad de aceptación')\n",
    "plt.title('Curvas Características de Operación')\n",
    "plt.legend()\n",
    "plt.show()"
   ]
  },
  {
   "cell_type": "markdown",
   "metadata": {},
   "source": [
    "a) Si usted fuera un vendedor que produce lotes con una fracción defectuosa que va de $p=0 a p=, 10$, ¿cuál de los dos planes de muestreo preferiría?\n",
    "\n",
    "Para construir las curvas características de operación (CCO) para ambos planes de muestreo, hay que calcular la probabilidad de aceptación para cada valor de p en el rango [0,1]. La probabilidad de aceptación es la probabilidad de que el número de piezas defectuosas Y sea menor o igual a a, dado un valor específico de p.\n",
    "\n",
    "La fórmula para la distribución binomial es:\n",
    "\n",
    "$$P(Y=k) = \\binom{n}{k} p^k (1-p)^{n-k}$$\n",
    "\n",
    "donde:\n",
    "- P(Y=k) es la probabilidad de que haya exactamente k piezas defectuosas en la muestra,\n",
    "- n es el número total de piezas en la muestra,\n",
    "- p es la proporción de piezas defectuosas en el lote,\n",
    "- k es el número de piezas defectuosas.\n",
    "\n",
    "Para calcular la probabilidad de aceptación, sumamos las probabilidades P(Y=k) para todos los valores de k desde 0 hasta a.\n",
    "\n",
    "Para el primer plan de muestreo (n=5, a=1), la probabilidad de aceptación es:\n",
    "\n",
    "$$P(Y \\leq 1) = P(Y=0) + P(Y=1) = \\binom{5}{0} p^0 (1-p)^5 + \\binom{5}{1} p^1 (1-p)^4$$\n",
    "\n",
    "Para el segundo plan de muestreo (n=25, a=5), la probabilidad de aceptación es:\n",
    "\n",
    "$$P(Y \\leq 5) = \\sum_{k=0}^{5} \\binom{25}{k} p^k (1-p)^{25-k}$$"
   ]
  },
  {
   "cell_type": "code",
   "execution_count": 13,
   "metadata": {},
   "outputs": [
    {
     "data": {
      "image/png": "[encoded data removed]",
      "text/plain": [
       "<Figure size 432x288 with 1 Axes>"
      ]
     },
     "metadata": {
      "needs_background": "light"
     },
     "output_type": "display_data"
    }
   ],
   "source": [
    "def prob_acceptance(p, n, a):\n",
    "    return 1 - (np.sum(np.arange(n+1) < a)) * (1-p)**(n-a+1)\n",
    "\n",
    "p_values = np.linspace(0, 0.1, 100)\n",
    "\n",
    "acceptance_rate1 = np.array([prob_acceptance(p, n1, a1) for p in p_values])\n",
    "acceptance_rate2 = np.array([prob_acceptance(p, n2, a2) for p in p_values])\n",
    "\n",
    "plt.plot(p_values, acceptance_rate1, label='Plan 1')\n",
    "plt.plot(p_values, acceptance_rate2, label='Plan 2')\n",
    "\n",
    "plt.xlabel('Fracción defectuosa')\n",
    "plt.ylabel('Probabilidad de aceptación')\n",
    "plt.title('Curvas Características de Operación')\n",
    "plt.legend()\n",
    "plt.show()"
   ]
  },
  {
   "cell_type": "markdown",
   "metadata": {},
   "source": [
    "Como se observa que el plan 1 ofrece una probabilidad de aceptación mayor y estable para cualquier fracción defectuosa, esta resulta ser una opción más atractiva para un vendedor que busca asegurar la mayor aceptación y, subsecuentemente, ganancias."
   ]
  },
  {
   "cell_type": "markdown",
   "metadata": {},
   "source": [
    "b) Si usted fuera un comprador que desea protegerse contra la aceptación de lotes con una fracción defectuosa que exceda de $p=, 30$, ¿cuál de los dos planes de muestreo preferiría?\n",
    "\n",
    "Se debe comparar las probabilidades de aceptación de ambos planes para p=0.30. Un comprador preferiría el plan de muestreo que tiene la menor probabilidad de aceptación para el valor de p.\n",
    "\n",
    "Para el primer plan de muestreo (n=5, a=1), la probabilidad de aceptación para p=0.30 es:\n",
    "\n",
    "$$P(Y \\leq 1) = P(Y=0) + P(Y=1) = \\binom{5}{0} (0.30)^0 (1-0.30)^5 + \\binom{5}{1} (0.30)^1 (1-0.30)^4$$\n",
    "\n",
    "Para el segundo plan de muestreo (n=25, a=5), la probabilidad de aceptación para p=0.30 es:\n",
    "\n",
    "$$P(Y \\leq 5) = \\sum_{k=0}^{5} \\binom{25}{k} (0.30)^k (1-0.30)^{25-k}$$"
   ]
  },
  {
   "cell_type": "code",
   "execution_count": 14,
   "metadata": {},
   "outputs": [
    {
     "data": {
      "image/png": "[encoded data removed]",
      "text/plain": [
       "<Figure size 432x288 with 1 Axes>"
      ]
     },
     "metadata": {
      "needs_background": "light"
     },
     "output_type": "display_data"
    }
   ],
   "source": [
    "def P_a(n, a, p):\n",
    "    return sum(binom.pmf(k, n, p) for k in range(a+1))\n",
    "\n",
    "x1 = np.linspace(0, 0.5, 100)\n",
    "y1 = [P_a(n1, a1, p) for p in x1]\n",
    "\n",
    "x2 = np.linspace(0, 0.5, 100)\n",
    "y2 = [P_a(n2, a2, p) for p in x2]\n",
    "\n",
    "plt.plot(x1, y1, label=f'Plan 1')\n",
    "plt.plot(x2, y2, label=f'Plan 2')\n",
    "plt.xlabel('Fracción defectuosa')\n",
    "plt.ylabel('Probabilidad de aceptación')\n",
    "plt.legend()\n",
    "plt.show()"
   ]
  },
  {
   "cell_type": "markdown",
   "metadata": {},
   "source": [
    "La probabilidad de aceptación reduce considerablemente para valores de p>0.3 en el plan 2. Por lo tanto, este plan resulta atractivo para un comprador."
   ]
  },
  {
   "cell_type": "markdown",
   "metadata": {},
   "source": [
    "2. El número de desconexiones del servidor de una compañía sigue una distribución de Poisson con una tasa de una desconexión cada 4 horas."
   ]
  },
  {
   "cell_type": "markdown",
   "metadata": {},
   "source": [
    "Se necesita usar la fórmula de la distribución de Poisson:\n",
    "$$P(X=k) = \\frac{\\lambda^k e^{-\\lambda}}{k!}$$\n",
    "\n",
    "donde:\n",
    "- P(X=k) es la probabilidad de que haya exactamente k desconexiones,\n",
    "- λ es la tasa promedio de desconexiones por período de tiempo (en este caso, 1 desconexión cada 4 horas),\n",
    "- k es el número de desconexiones."
   ]
  },
  {
   "cell_type": "code",
   "execution_count": 16,
   "metadata": {},
   "outputs": [],
   "source": [
    "def poisson_pmf(k, l):\n",
    "    return (l ** k) * math.exp(-l) / math.factorial(k)\n"
   ]
  },
  {
   "cell_type": "markdown",
   "metadata": {},
   "source": [
    "a) Encuentre el menor valor de $n$ tal que la probabilidad de que haya al menos $n$ desconexiones en menos de un período de 4 horas es menor que 0.01.\n"
   ]
  },
  {
   "cell_type": "code",
   "execution_count": 18,
   "metadata": {},
   "outputs": [
    {
     "name": "stdout",
     "output_type": "stream",
     "text": [
      "Probabilidad de tener exactamente 3 desconexiones en un período de 4 horas: 0.19536681481316456\n"
     ]
    }
   ],
   "source": [
    "lambda_a = 4\n",
    "n_a = 3\n",
    "\n",
    "p_value = poisson_pmf(n_a, lambda_a)\n",
    "print(\"Probabilidad de tener exactamente\", n_a, \"desconexiones en un período de 4 horas:\", p_value)\n"
   ]
  },
  {
   "cell_type": "markdown",
   "metadata": {},
   "source": [
    "b) Encuentre el menor valor del número de horas $h$ tal que la probabilidad de que no haya desconexiones en $h$ horas sea menor que 0.02.\n"
   ]
  },
  {
   "cell_type": "code",
   "execution_count": 19,
   "metadata": {},
   "outputs": [
    {
     "name": "stdout",
     "output_type": "stream",
     "text": [
      "Probabilidad de no tener desconexiones en 4 horas: 1.1253517471925912e-07\n"
     ]
    }
   ],
   "source": [
    "# Pregunta b\n",
    "h = 4\n",
    "p_value_b = poisson_pmf(0, lambda_a * h)\n",
    "print(\"Probabilidad de no tener desconexiones en\", h, \"horas:\", p_value_b)\n"
   ]
  },
  {
   "cell_type": "markdown",
   "metadata": {},
   "source": [
    "c) Encuentre la probabilidad de que en 3 períodos consecutivos de 4 horas, haya solamente un período de 4 horas sin desconexiones."
   ]
  },
  {
   "cell_type": "code",
   "execution_count": 22,
   "metadata": {},
   "outputs": [
    {
     "name": "stdout",
     "output_type": "stream",
     "text": [
      "Probabilidad de que en 3 períodos consecutivos de 4 horas, haya solamente un período de 4 horas sin desconexiones: 9.134105014713199e-05\n"
     ]
    }
   ],
   "source": [
    "# Pregunta c\n",
    "n_c = [0, 2, 3]\n",
    "lambda_c = 4\n",
    "\n",
    "p_value_c = 0\n",
    "for i in n_c:\n",
    "    p_value_c += poisson_pmf(i, lambda_c * 4)\n",
    "\n",
    "print(\"Probabilidad de que en 3 períodos consecutivos de 4 horas, haya solamente un período de 4 horas sin desconexiones:\", p_value_c)"
   ]
  },
  {
   "cell_type": "markdown",
   "metadata": {},
   "source": [
    "d) Encuentre la probabilidad de que el número de desconexiones en 3 períodos consecutivos de 4 horas sea igual al número esperaod de desconexiones en 3 períodos consecutivos de 4 horas."
   ]
  },
  {
   "cell_type": "code",
   "execution_count": 24,
   "metadata": {},
   "outputs": [
    {
     "name": "stdout",
     "output_type": "stream",
     "text": [
      "Probabilidad de que el número de desconexiones en 3 períodos consecutivos de 4 horas sea igual al número esperado de desconexiones: 9.134105014713199e-05\n"
     ]
    }
   ],
   "source": [
    "lambda_d = 4\n",
    "n_d = [0, 2, 3]\n",
    "\n",
    "p_value_d = 0\n",
    "for i in n_d:\n",
    "    p_value_d += poisson_pmf(i, lambda_d * 4)\n",
    "\n",
    "print(\"Probabilidad de que el número de desconexiones en 3 períodos consecutivos de 4 horas sea igual al número esperado de desconexiones:\", p_value_d)"
   ]
  },
  {
   "cell_type": "markdown",
   "metadata": {},
   "source": [
    "## 3. Distribuciones de probabilidad continuas"
   ]
  },
  {
   "cell_type": "markdown",
   "metadata": {},
   "source": [
    "1. Suponga que el error en la temperatura en un experimento controlado de laboratorio es una variable aleatoria continua $X$, que tiene la siguiente función de densidad de probabilidad:\n",
    "\n",
    "$$\n",
    "f(x)= \\begin{cases}\\frac{x^{2}}{3} & -1 \\leq x \\leq 2 \\\\ 0 \\leq \\text { en otro caso } & \\end{cases}\n",
    "$$"
   ]
  },
  {
   "cell_type": "code",
   "execution_count": 30,
   "metadata": {},
   "outputs": [],
   "source": [
    "def pdf(x):\n",
    "    if -1 <= x <= 2:\n",
    "        return (x ** 2) / 3\n",
    "    else:\n",
    "        return 0"
   ]
  },
  {
   "cell_type": "markdown",
   "metadata": {},
   "source": [
    "Encuentre las probabilidades:\n",
    "\\\n",
    "a) $P(0<X \\leq 1)$\n",
    "\\\n",
    "La función de densidad de probabilidad se define como $f(x)=\\frac{d}{dx}P(X\\leq x)$. Para calcular esta probabilidad, se puede calcular la integral de f(x) desde 0 hasta 1."
   ]
  },
  {
   "cell_type": "code",
   "execution_count": 31,
   "metadata": {},
   "outputs": [
    {
     "name": "stdout",
     "output_type": "stream",
     "text": [
      "Probabilidad de P(0<X \\leq 1): 0.11111111111111112\n"
     ]
    }
   ],
   "source": [
    "a_prob = quad(pdf, 0, 1)[0]\n",
    "print(\"Probabilidad de P(0<X \\leq 1):\", a_prob)"
   ]
  },
  {
   "cell_type": "markdown",
   "metadata": {},
   "source": [
    "b) $P(1<X \\leq 2)$\n",
    "Se puede calcular la integral de f(x) desde 1 hasta 2.\n"
   ]
  },
  {
   "cell_type": "code",
   "execution_count": 32,
   "metadata": {},
   "outputs": [
    {
     "name": "stdout",
     "output_type": "stream",
     "text": [
      "Probabilidad de P(1<X \\leq 2): 0.7777777777777778\n"
     ]
    }
   ],
   "source": [
    "b_prob = quad(pdf, 1, 2)[0]\n",
    "print(\"Probabilidad de P(1<X \\leq 2):\", b_prob)"
   ]
  },
  {
   "cell_type": "markdown",
   "metadata": {},
   "source": [
    "2. Se supone que las calificaciones de un examen están normalmente distribuidas con media 78 y varianza de 36."
   ]
  },
  {
   "cell_type": "code",
   "execution_count": 40,
   "metadata": {},
   "outputs": [],
   "source": [
    "def cumulative_probability(mean, std_dev, x):\n",
    "    \"\"\"Calcula la probabilidad acumulada en un punto x\"\"\"\n",
    "    return (1 + erfinv((x - mean) / (std_dev * math.sqrt(2)))) / 2\n",
    "\n",
    "def cumulative_percentage(mean, std_dev, percentage):\n",
    "    \"\"\"Calcula el valor x que cumple con un porcentaje acumulado\"\"\"\n",
    "    z = math.sqrt(2) * erfinv(2 * percentage - 1)\n",
    "    return mean + std_dev * z\n",
    "\n",
    "mean = 80\n",
    "std_dev = 10\n"
   ]
  },
  {
   "cell_type": "markdown",
   "metadata": {},
   "source": [
    "a) ¿Cuál es la probabilidad de que una persona que haga el examen alcance calificaciones mayores de $72?$"
   ]
  },
  {
   "cell_type": "code",
   "execution_count": 41,
   "metadata": {},
   "outputs": [
    {
     "name": "stdout",
     "output_type": "stream",
     "text": [
      "La probabilidad de que una persona alcance calificaciones mayores de 72 es aproximadamente 0.7764185948629994\n"
     ]
    }
   ],
   "source": [
    "x_a = 72\n",
    "probability_a = 1 - cumulative_probability(mean, std_dev, x_a)\n",
    "print(\"La probabilidad de que una persona alcance calificaciones mayores de 72 es aproximadamente\", probability_a)"
   ]
  },
  {
   "cell_type": "markdown",
   "metadata": {},
   "source": [
    "b) Suponga que los estudiantes que alcancen el $10 \\%$ más alto de esta distribución reciben una calificación de A. ¿Cuál es la calificación mínima que un estudiante debe recibir para ganar una calificación de A?"
   ]
  },
  {
   "cell_type": "code",
   "execution_count": 42,
   "metadata": {},
   "outputs": [
    {
     "name": "stdout",
     "output_type": "stream",
     "text": [
      "Un estudiante debe recibir al menos una calificación de 92.815515655446 para obtener una calificación de A\n"
     ]
    }
   ],
   "source": [
    "percentage_b = 0.90\n",
    "x_b = cumulative_percentage(mean, std_dev, percentage_b)\n",
    "print(\"Un estudiante debe recibir al menos una calificación de\", x_b, \"para obtener una calificación de A\")\n"
   ]
  },
  {
   "cell_type": "markdown",
   "metadata": {},
   "source": [
    "c) ¿Cuál debe ser el punto límite para pasar el examen si el examinador desea pasar a sólo 28,1\\% más alto de todas las calificaciones?"
   ]
  },
  {
   "cell_type": "code",
   "execution_count": 43,
   "metadata": {},
   "outputs": [
    {
     "name": "stdout",
     "output_type": "stream",
     "text": [
      "El punto límite para pasar el examen es 74.20126607572296\n"
     ]
    }
   ],
   "source": [
    "percentage_c = 0.281\n",
    "x_c = cumulative_percentage(mean, std_dev, percentage_c)\n",
    "print(\"El punto límite para pasar el examen es\", x_c)"
   ]
  },
  {
   "cell_type": "markdown",
   "metadata": {},
   "source": [
    "d) Aproximadamente qué proporción de estudiantes tienen calificaciones de 5 o más puntos arriba de la calificación que corta al $25 \\%$ más bajo?"
   ]
  },
  {
   "cell_type": "code",
   "execution_count": 44,
   "metadata": {},
   "outputs": [
    {
     "name": "stdout",
     "output_type": "stream",
     "text": [
      "Aproximadamente el 44.51076440505484 % de los estudiantes tienen calificaciones de 5 o más puntos arriba de la calificación que corta al 25% más bajo\n"
     ]
    }
   ],
   "source": [
    "percentage_d = 0.25\n",
    "x_d = cumulative_percentage(mean, std_dev, percentage_d) + 5\n",
    "probability_d = cumulative_probability(mean, std_dev, x_d)\n",
    "print(\"Aproximadamente el\", 100 * probability_d, \"% de los estudiantes tienen calificaciones de 5 o más puntos arriba de la calificación que corta al 25% más bajo\")"
   ]
  },
  {
   "cell_type": "markdown",
   "metadata": {},
   "source": [
    "e) Si se sabe que la calificación de un estudiante excede de 72, ¿cuál es la probabilidad de que su calificación exceda de 84 ?"
   ]
  },
  {
   "cell_type": "code",
   "execution_count": 45,
   "metadata": {},
   "outputs": [
    {
     "name": "stdout",
     "output_type": "stream",
     "text": [
      "La probabilidad de que la calificación de un estudiante exceda de 84 es aproximadamente 0.6280784684002463\n"
     ]
    }
   ],
   "source": [
    "probability_e = cumulative_probability(mean, std_dev, 84)\n",
    "print(\"La probabilidad de que la calificación de un estudiante exceda de 84 es aproximadamente\", probability_e)"
   ]
  },
  {
   "cell_type": "markdown",
   "metadata": {},
   "source": [
    "## 4. Cadenas de Markov"
   ]
  },
  {
   "cell_type": "markdown",
   "metadata": {},
   "source": [
    "Las bases nitrogenadas fundamentales que componen el ADN son: Adenina (A), Citosina (C), Guanina (G) y Timina $(\\mathrm{T})$. Un gen se puede representar a través de una secuencia ordenada de dichas bases. Suponga la siguiente matriz de transición entre bases:\n",
    "\n",
    "$$\n",
    "\\mathbb{T}=\\left(\\begin{array}{ccccc} \n",
    "& A & C & G & T \\\\\n",
    "A & 0,4 & 0,25 & 0,3 & 0,1 \\\\\n",
    "C & 0,2 & 0,25 & 0,3 & 0,1 \\\\\n",
    "G & 0,2 & 0,25 & 0,1 & 0,1 \\\\\n",
    "T & 0,2 & 0,25 & 0,3 & 0,7\n",
    "\\end{array}\\right)\n",
    "$$\n",
    "\n",
    "La probabilidad a priori está dada por $\\pi=[0,25,0,0,5,0,25]$."
   ]
  },
  {
   "cell_type": "markdown",
   "metadata": {},
   "source": [
    "1. Encuentre la probabilidad de obtener el gen $g=[T, G, C, T, C, A, A, A]$."
   ]
  },
  {
   "cell_type": "code",
   "execution_count": 53,
   "metadata": {},
   "outputs": [
    {
     "name": "stdout",
     "output_type": "stream",
     "text": [
      "La probabilidad de obtener el gen ['T', 'G', 'C', 'T', 'C', 'A', 'A', 'A'] es 1.5000000000000002e-05\n"
     ]
    }
   ],
   "source": [
    "T = np.array([\n",
    "    [0.4, 0.25, 0.3, 0.1],\n",
    "    [0.2, 0.25, 0.3, 0.1],\n",
    "    [0.2, 0.25, 0.1, 0.1],\n",
    "    [0.2, 0.25, 0.3, 0.7]\n",
    "])\n",
    "\n",
    "pi = np.array([0.25, 0, 0.5, 0.25])\n",
    "\n",
    "base_map = {'A': 0, 'C': 1, 'G': 2, 'T': 3}\n",
    "\n",
    "g = ['T', 'G', 'C', 'T', 'C', 'A', 'A', 'A']\n",
    "\n",
    "p = pi[base_map[g[0]]]\n",
    "for i in range(len(g) - 1):\n",
    "    p *= T[base_map[g[i]], base_map[g[i+1]]]\n",
    "\n",
    "print(f'La probabilidad de obtener el gen {g} es {p}')\n"
   ]
  },
  {
   "cell_type": "markdown",
   "metadata": {},
   "source": [
    "2. Estas bases nitrogenadas pasarán por un proceso de traducción donde el objetivo es que se traduzcan $A-U, C-G, G-C, T-A$ según la siguiente matriz de emisión\n",
    "\n",
    "$$\n",
    "\\mathbb{E}=\\left(\\begin{array}{ccccc} \n",
    "& A & C & G & T \\\\\n",
    "U & 0,8 & 0 & 0 & 0,2 \\\\\n",
    "G & 0,05 & 0,9 & 0,1 & 0,1 \\\\\n",
    "C & 0,05 & 0,1 & 0,9 & 0 \\\\\n",
    "A & 0,1 & 0 & 0 & 0,7\n",
    "\\end{array}\\right)\n",
    "$$\n",
    "\n",
    "Si un gen traducido está dado por $g_{T}=[A, C, G, A, G, U, U, U]$, ¿cuál es la probabilidad de que venga del gen $g$ anterior?"
   ]
  }
 ],
 "metadata": {
  "kernelspec": {
   "display_name": "base",
   "language": "python",
   "name": "python3"
  },
  "language_info": {
   "codemirror_mode": {
    "name": "ipython",
    "version": 3
   },
   "file_extension": ".py",
   "mimetype": "text/x-python",
   "name": "python",
   "nbconvert_exporter": "python",
   "pygments_lexer": "ipython3",
   "version": "3.9.7"
  }
 },
 "nbformat": 4,
 "nbformat_minor": 2
}
